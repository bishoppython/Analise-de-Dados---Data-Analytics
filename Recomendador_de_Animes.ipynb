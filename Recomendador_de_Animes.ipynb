{
  "nbformat": 4,
  "nbformat_minor": 0,
  "metadata": {
    "colab": {
      "name": "Recomendador_de_Animes.ipynb",
      "provenance": [],
      "authorship_tag": "ABX9TyO+e6jYeFM8YaBnsHHz9Tq1",
      "include_colab_link": true
    },
    "kernelspec": {
      "name": "python3",
      "display_name": "Python 3"
    },
    "language_info": {
      "name": "python"
    }
  },
  "cells": [
    {
      "cell_type": "markdown",
      "metadata": {
        "id": "view-in-github",
        "colab_type": "text"
      },
      "source": [
        "<a href=\"https://colab.research.google.com/github/bishoppython/Analise-de-Dados---Data-Analytics/blob/main/Recomendador_de_Animes.ipynb\" target=\"_parent\"><img src=\"https://colab.research.google.com/assets/colab-badge.svg\" alt=\"Open In Colab\"/></a>"
      ]
    },
    {
      "cell_type": "code",
      "execution_count": null,
      "metadata": {
        "id": "8J_Ra0JcSASJ"
      },
      "outputs": [],
      "source": [
        "#!pip install pandas\n",
        "#!pip install streamlit"
      ]
    },
    {
      "cell_type": "code",
      "source": [
        "import pandas as pd\n",
        "import streamlit as st"
      ],
      "metadata": {
        "id": "ZT8azANPSiKA"
      },
      "execution_count": null,
      "outputs": []
    },
    {
      "cell_type": "markdown",
      "source": [
        "*Dá um nome ao título (header) e Fazer a Leitura dos arquivos com os dados* "
      ],
      "metadata": {
        "id": "gXrRyYZZTwx9"
      }
    },
    {
      "cell_type": "code",
      "source": [
        "st.header('RECOMENDADOR DE ANIMES BOLADÃO')\n",
        "df_anime = pd.read_csv('anime.csv')\n",
        "df_notas = pd.read_csv('rating.csv')"
      ],
      "metadata": {
        "id": "4yyBxy3yTJRn"
      },
      "execution_count": null,
      "outputs": []
    },
    {
      "cell_type": "code",
      "source": [
        "df = pd.merge(df_notas, df_anime.drop('rating', axis=1), on='anime_id')"
      ],
      "metadata": {
        "id": "mq2C2z2iTvyW"
      },
      "execution_count": null,
      "outputs": []
    },
    {
      "cell_type": "code",
      "source": [
        "df.groupby('name')['rating'].count().sort_values(ascending=False).head(10)"
      ],
      "metadata": {
        "colab": {
          "base_uri": "https://localhost:8080/"
        },
        "id": "d1q3hOQnY-K4",
        "outputId": "e24a1366-6bd4-48ae-bb09-c69d1175a74c"
      },
      "execution_count": null,
      "outputs": [
        {
          "output_type": "execute_result",
          "data": {
            "text/plain": [
              "name\n",
              "Death Note                          39340\n",
              "Sword Art Online                    30583\n",
              "Shingeki no Kyojin                  29584\n",
              "Code Geass: Hangyaku no Lelouch     27718\n",
              "Elfen Lied                          27506\n",
              "Angel Beats!                        27183\n",
              "Naruto                              25925\n",
              "Fullmetal Alchemist                 25032\n",
              "Fullmetal Alchemist: Brotherhood    24574\n",
              "Toradora!                           24283\n",
              "Name: rating, dtype: int64"
            ]
          },
          "metadata": {},
          "execution_count": 7
        }
      ]
    },
    {
      "cell_type": "code",
      "source": [
        "notas = pd.DataFrame(df.groupby('name')['rating'].mean())\n",
        "notas['numero de avaliações'] = pd.DataFrame(df.groupby('name')['rating'].count())\n",
        "notas['avaliação média'] = pd.DataFrame(df.groupby('name')['rating'].mean().round(2))"
      ],
      "metadata": {
        "id": "KaurFPfmY-Ck"
      },
      "execution_count": null,
      "outputs": []
    },
    {
      "cell_type": "code",
      "source": [
        "genero = pd.DataFrame(data=df_anime[['name', 'genre']])\n",
        "genero.set_index('name', inplace=True)"
      ],
      "metadata": {
        "id": "jJofYv2wZUSs"
      },
      "execution_count": null,
      "outputs": []
    },
    {
      "cell_type": "code",
      "source": [
        "nome_do_anime = st.sidebar.selectbox('Animes', df_anime['name'])"
      ],
      "metadata": {
        "id": "kKfNtRS_ZWZs"
      },
      "execution_count": null,
      "outputs": []
    },
    {
      "cell_type": "code",
      "source": [
        "def verificar_genero(lista_genero, string):\n",
        "    if any(x in string for x in lista_genero):\n",
        "        return True\n",
        "    else:\n",
        "        return False"
      ],
      "metadata": {
        "id": "g4pBIrmXZZAd"
      },
      "execution_count": null,
      "outputs": []
    },
    {
      "cell_type": "code",
      "source": [
        "def recomendar_anime(nome_do_anime, n):\n",
        "    genero_anime = genero.loc[nome_do_anime].values[0].split(', ')\n",
        "    cols = df_anime[df_anime['genre'].apply(lambda x: verificar_genero(genero_anime, str(x)))]['name'].tolist()\n",
        "    matriz_de_animes = df[df['name'].isin(cols)].pivot_table(index='user_id', columns='name', values='rating')\n",
        "    anime_nota = matriz_de_animes[nome_do_anime]\n",
        "    anime_parecido = matriz_de_animes.corrwith(anime_nota)\n",
        "    anime_correlacionado = pd.DataFrame(anime_parecido, columns=['correlação'])\n",
        "    anime_correlacionado = anime_correlacionado.join(notas[['numero de avaliações', 'avaliação média']])\n",
        "    anime_correlacionado.dropna(inplace=True)\n",
        "    animes_recomendados = anime_correlacionado[anime_correlacionado['numero de avaliações'] > 3000].sort_values(\n",
        "        'correlação', ascending=False)\n",
        "    animes_recomendados = animes_recomendados.rename_axis('Animes recomendados')\n",
        "    return animes_recomendados.head(n + 1)"
      ],
      "metadata": {
        "id": "AUA62Y4mZbo0"
      },
      "execution_count": null,
      "outputs": []
    },
    {
      "cell_type": "code",
      "source": [
        "df_final = recomendar_anime(nome_do_anime, 5)\n",
        "st.write('Recomendados:')\n",
        "st.dataframe(df_final)"
      ],
      "metadata": {
        "colab": {
          "base_uri": "https://localhost:8080/"
        },
        "id": "OjoT3LAiZgPM",
        "outputId": "1a207eb1-7e11-48b4-d64a-ea0231fdb9b4"
      },
      "execution_count": null,
      "outputs": [
        {
          "output_type": "stream",
          "name": "stderr",
          "text": [
            "tcmalloc: large alloc 2325716992 bytes == 0x56002c224000 @  0x7f852dc0f1e7 0x7f851f3840ce 0x7f851f3dacf5 0x7f851f3daf4f 0x7f851f47d673 0x55ff8cafe11c 0x55ff8cafdef0 0x55ff8cb7264d 0x55ff8cb6ca2e 0x55ff8caff88a 0x55ff8cb6db4f 0x55ff8cb6ca2e 0x55ff8caff88a 0x55ff8cb6e719 0x55ff8cb6ca2e 0x55ff8caff88a 0x55ff8cb6e719 0x55ff8cb6ca2e 0x55ff8caff88a 0x55ff8cb6d8f6 0x55ff8cb6ca2e 0x55ff8caff88a 0x55ff8cb71d30 0x55ff8caff7aa 0x55ff8cb6d8f6 0x55ff8cb6ca2e 0x55ff8caff88a 0x55ff8cb6e719 0x55ff8cb6ca2e 0x55ff8caff88a 0x55ff8cb6e719\n",
            "tcmalloc: large alloc 2325716992 bytes == 0x5600b6c1e000 @  0x7f852dc0f1e7 0x7f851f3840ce 0x7f851f3dacf5 0x7f851f3daf4f 0x7f851f47d673 0x55ff8cafe11c 0x55ff8cafdef0 0x55ff8cb7264d 0x55ff8caff7aa 0x55ff8cb6d8f6 0x55ff8cb6ca2e 0x55ff8caff88a 0x55ff8cb6e719 0x55ff8cb6ca2e 0x55ff8caff88a 0x55ff8cb6e719 0x55ff8cb6ccdd 0x55ff8caff88a 0x55ff8cb6e719 0x55ff8cb6ccdd 0x55ff8caff88a 0x55ff8cb6e719 0x55ff8cb6ca2e 0x55ff8caff88a 0x55ff8cb6e719 0x55ff8cb6ca2e 0x55ff8caff88a 0x55ff8cb71d30 0x55ff8cb6ccdd 0x55ff8ca3ee2b 0x55ff8cb6eff1\n",
            "tcmalloc: large alloc 2325716992 bytes == 0x560154ce2000 @  0x7f852dc0f1e7 0x7f851f3840ce 0x7f851f3de726 0x7f851f3d1475 0x7f851f471e51 0x55ff8cafe11c 0x55ff8cbefd4d 0x55ff8cb71ec8 0x55ff8cb6ca2e 0x55ff8cb0013c 0x55ff8cb00341 0x55ff8cb6eff1 0x55ff8cb6ccdd 0x55ff8caff88a 0x55ff8cb6e719 0x55ff8cb6ccdd 0x55ff8caff88a 0x55ff8cb6e719 0x55ff8cb6ca2e 0x55ff8caff88a 0x55ff8cb71d30 0x55ff8caff7aa 0x55ff8cb71d30 0x55ff8cb6ca2e 0x55ff8caff88a 0x55ff8cb6e719 0x55ff8cb6ccdd 0x55ff8ca3ee2b 0x55ff8cb6eff1 0x55ff8cb6ccdd 0x55ff8caff88a\n",
            "tcmalloc: large alloc 2325716992 bytes == 0x5600131f0000 @  0x7f852dc0f1e7 0x7f851f3840ce 0x7f851f3dacf5 0x7f851f3daf4f 0x7f851f47d673 0x55ff8cafe11c 0x55ff8cafdef0 0x55ff8cb7264d 0x55ff8caff7aa 0x55ff8cb6d8f6 0x55ff8cb6ca2e 0x55ff8caff88a 0x55ff8cb6e719 0x55ff8cb6ca2e 0x55ff8caff88a 0x55ff8cb6e719 0x55ff8cb6ccdd 0x55ff8caff88a 0x55ff8cb6e719 0x55ff8cb6ccdd 0x55ff8caff88a 0x55ff8cb6e719 0x55ff8cb6ca2e 0x55ff8caff88a 0x55ff8cb6e719 0x55ff8cb6ca2e 0x55ff8caff88a 0x55ff8cb6e719 0x55ff8cb6ca2e 0x55ff8caff88a 0x55ff8cb6e719\n",
            "/usr/local/lib/python3.7/dist-packages/numpy/lib/function_base.py:2683: RuntimeWarning: Degrees of freedom <= 0 for slice\n",
            "  c = cov(x, y, rowvar, dtype=dtype)\n",
            "/usr/local/lib/python3.7/dist-packages/numpy/lib/function_base.py:2542: RuntimeWarning: divide by zero encountered in true_divide\n",
            "  c *= np.true_divide(1, fact)\n"
          ]
        },
        {
          "output_type": "execute_result",
          "data": {
            "text/plain": [
              "DeltaGenerator(_root_container=0, _provided_cursor=None, _parent=None, _block_type=None, _form_data=None)"
            ]
          },
          "metadata": {},
          "execution_count": 13
        }
      ]
    }
  ]
}